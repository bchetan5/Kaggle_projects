{
 "cells": [
  {
   "cell_type": "code",
   "execution_count": 1,
   "id": "36d56972",
   "metadata": {},
   "outputs": [],
   "source": [
    "import tensorflow as tf\n",
    "from tensorflow import keras\n",
    "import matplotlib.pyplot as plt\n",
    "%matplotlib inline\n",
    "import numpy as np\n"
   ]
  },
  {
   "cell_type": "code",
   "execution_count": 3,
   "id": "f253668d",
   "metadata": {},
   "outputs": [],
   "source": [
    "(X_train, y_train), (X_test, y_test)=keras.datasets.mnist.load_data()\n",
    "X_train=X_train/255\n",
    "X_test=X_test/255"
   ]
  },
  {
   "cell_type": "code",
   "execution_count": 4,
   "id": "e9e7f8cb",
   "metadata": {},
   "outputs": [
    {
     "data": {
      "text/plain": [
       "60000"
      ]
     },
     "execution_count": 4,
     "metadata": {},
     "output_type": "execute_result"
    }
   ],
   "source": [
    "len(X_train)"
   ]
  },
  {
   "cell_type": "code",
   "execution_count": 5,
   "id": "3dbbc2a3",
   "metadata": {
    "scrolled": true
   },
   "outputs": [
    {
     "data": {
      "text/plain": [
       "3"
      ]
     },
     "execution_count": 5,
     "metadata": {},
     "output_type": "execute_result"
    },
    {
     "data": {
      "image/png": "[encoded data removed]",
      "text/plain": [
       "<Figure size 480x480 with 1 Axes>"
      ]
     },
     "metadata": {},
     "output_type": "display_data"
    }
   ],
   "source": [
    "# the dataset is actually collection of 2 dimentional array having values from 0 to 256 representing images of different number\n",
    "# show the example\n",
    "\n",
    "plt.matshow(X_train[10])\n",
    "# heading of respective image\n",
    "y_train[10]"
   ]
  },
  {
   "cell_type": "code",
   "execution_count": 6,
   "id": "0c37267c",
   "metadata": {},
   "outputs": [],
   "source": [
    "# here every image is 28 x 28 pixel. In order to submit this image to  neurons, we have to first \"Flatten\"  the image data\n",
    "X_train_flatten=X_train.reshape(len(X_train),28*28)\n",
    "X_test_flatten=X_test.reshape(len(X_test),28*28)\n"
   ]
  },
  {
   "cell_type": "code",
   "execution_count": 7,
   "id": "79b8f440",
   "metadata": {},
   "outputs": [
    {
     "name": "stdout",
     "output_type": "stream",
     "text": [
      "Epoch 1/5\n",
      "1875/1875 [==============================] - 3s 1ms/step - loss: 0.4714 - accuracy: 0.8763\n",
      "Epoch 2/5\n",
      "1875/1875 [==============================] - 2s 1ms/step - loss: 0.3047 - accuracy: 0.9147\n",
      "Epoch 3/5\n",
      "1875/1875 [==============================] - 2s 1ms/step - loss: 0.2838 - accuracy: 0.9211\n",
      "Epoch 4/5\n",
      "1875/1875 [==============================] - 2s 1ms/step - loss: 0.2734 - accuracy: 0.9241\n",
      "Epoch 5/5\n",
      "1875/1875 [==============================] - 2s 1ms/step - loss: 0.2668 - accuracy: 0.9255\n"
     ]
    },
    {
     "data": {
      "text/plain": [
       "<keras.callbacks.History at 0x26102b97850>"
      ]
     },
     "execution_count": 7,
     "metadata": {},
     "output_type": "execute_result"
    }
   ],
   "source": [
    "model=keras.Sequential([keras.layers.Dense(10,input_shape=(784,), activation='sigmoid')])\n",
    "model.compile(optimizer='adam',\n",
    "             loss='sparse_categorical_crossentropy',\n",
    "             metrics=['accuracy'])\n",
    "model.fit(X_train_flatten,y_train,epochs=5)"
   ]
  },
  {
   "cell_type": "code",
   "execution_count": 8,
   "id": "521f3dce",
   "metadata": {},
   "outputs": [
    {
     "name": "stdout",
     "output_type": "stream",
     "text": [
      "313/313 [==============================] - 0s 898us/step - loss: 0.2658 - accuracy: 0.9252\n"
     ]
    },
    {
     "data": {
      "text/plain": [
       "[0.26582998037338257, 0.9251999855041504]"
      ]
     },
     "execution_count": 8,
     "metadata": {},
     "output_type": "execute_result"
    }
   ],
   "source": [
    "# so got good accuracy of 92%\n",
    "# lets evaluate on test dataset\n",
    "\n",
    "model.evaluate(X_test_flatten,y_test)"
   ]
  },
  {
   "cell_type": "code",
   "execution_count": null,
   "id": "6d6d39c3",
   "metadata": {},
   "outputs": [],
   "source": []
  },
  {
   "cell_type": "code",
   "execution_count": 9,
   "id": "bfa44b2d",
   "metadata": {},
   "outputs": [
    {
     "name": "stdout",
     "output_type": "stream",
     "text": [
      "313/313 [==============================] - 1s 766us/step\n"
     ]
    }
   ],
   "source": [
    "# Predicting using test dataset\n",
    "y_predicted=model.predict(X_test_flatten)"
   ]
  },
  {
   "cell_type": "code",
   "execution_count": 10,
   "id": "e65af7c8",
   "metadata": {},
   "outputs": [
    {
     "name": "stdout",
     "output_type": "stream",
     "text": [
      "[2.2193256e-01 3.9637759e-03 9.9930471e-01 3.5762399e-01 9.8902975e-10\n",
      " 8.6232686e-01 9.1182363e-01 4.3652183e-13 9.0124384e-02 1.1411162e-09]\n"
     ]
    }
   ],
   "source": [
    "print(y_predicted[1])"
   ]
  },
  {
   "cell_type": "code",
   "execution_count": 11,
   "id": "84e0a57c",
   "metadata": {},
   "outputs": [
    {
     "name": "stdout",
     "output_type": "stream",
     "text": [
      "[2.2193256e+01 3.9637759e-01 9.9930473e+01 3.5762398e+01 9.8902973e-08\n",
      " 8.6232689e+01 9.1182365e+01 4.3652183e-11 9.0124388e+00 1.1411162e-07]\n"
     ]
    }
   ],
   "source": [
    "# as you can see, when we print the y_predicted, it gives probability of prediction for every number from 0 to 9\n",
    "# lets print the probability in percent\n",
    "print(y_predicted[1]*100)"
   ]
  },
  {
   "cell_type": "code",
   "execution_count": 12,
   "id": "aadb51f3",
   "metadata": {},
   "outputs": [
    {
     "name": "stdout",
     "output_type": "stream",
     "text": [
      "0 = 22.19325602054596\n",
      "1 = 0.3963775932788849\n",
      "2 = 99.9304711818695\n",
      "3 = 35.762399435043335\n",
      "4 = 9.890297469894449e-08\n",
      "5 = 86.23268604278564\n",
      "6 = 91.18236303329468\n",
      "7 = 4.3652183105181985e-11\n",
      "8 = 9.012438356876373\n",
      "9 = 1.1411162015306786e-07\n"
     ]
    }
   ],
   "source": [
    "for i in range(0,len(y_predicted[1])):\n",
    "    print(i,'=',y_predicted[1][i]*100)"
   ]
  },
  {
   "cell_type": "code",
   "execution_count": 13,
   "id": "22e9acd5",
   "metadata": {},
   "outputs": [
    {
     "data": {
      "text/plain": [
       "<matplotlib.image.AxesImage at 0x26103e55040>"
      ]
     },
     "execution_count": 13,
     "metadata": {},
     "output_type": "execute_result"
    },
    {
     "data": {
      "image/png": "[encoded data removed]",
      "text/plain": [
       "<Figure size 480x480 with 1 Axes>"
      ]
     },
     "metadata": {},
     "output_type": "display_data"
    }
   ],
   "source": [
    "# so maximum probability is with number '2'\n",
    "#lets check if it matched with the actual number in test at location [1]\n",
    "\n",
    "plt.matshow(X_test[1])"
   ]
  },
  {
   "cell_type": "code",
   "execution_count": 14,
   "id": "5267818a",
   "metadata": {},
   "outputs": [
    {
     "name": "stdout",
     "output_type": "stream",
     "text": [
      "0 = 0.004019660264020786\n",
      "1 = 99.84102249145508\n",
      "2 = 50.937676429748535\n",
      "3 = 41.3273960351944\n",
      "4 = 0.9594478644430637\n",
      "5 = 2.185254544019699\n",
      "6 = 1.2353815138339996\n",
      "7 = 57.57371783256531\n",
      "8 = 47.98685610294342\n",
      "9 = 16.780491173267365\n"
     ]
    }
   ],
   "source": [
    "# lets check for other number\n",
    "\n",
    "for i in range(0,len(y_predicted[5])):\n",
    "    print(i,'=',y_predicted[5][i]*100)"
   ]
  },
  {
   "cell_type": "code",
   "execution_count": 15,
   "id": "f56ca54c",
   "metadata": {},
   "outputs": [
    {
     "data": {
      "text/plain": [
       "<matplotlib.image.AxesImage at 0x26103e9da60>"
      ]
     },
     "execution_count": 15,
     "metadata": {},
     "output_type": "execute_result"
    },
    {
     "data": {
      "image/png": "[encoded data removed]",
      "text/plain": [
       "<Figure size 480x480 with 1 Axes>"
      ]
     },
     "metadata": {},
     "output_type": "display_data"
    }
   ],
   "source": [
    "plt.matshow(X_test[5])"
   ]
  },
  {
   "cell_type": "code",
   "execution_count": 16,
   "id": "8a17feb5",
   "metadata": {},
   "outputs": [],
   "source": [
    "# so the model looks fairly good with accuracy upto 92 %"
   ]
  },
  {
   "cell_type": "code",
   "execution_count": 17,
   "id": "55c00ac7",
   "metadata": {},
   "outputs": [],
   "source": [
    "# now to get the actually feel of the entire model and how its functioning, lets plot a cofusion matrix\n",
    "# we will do this with builtin method called confusion_matrix' in tensorflow. \n",
    "# but before we can do that, we should convert all the labels of test data into an array\n",
    "\n",
    "y_predicted_labels= [np.argmax(i) for i in y_predicted]\n",
    "\n",
    "cm=tf.math.confusion_matrix(labels=y_test,predictions=y_predicted_labels)   "
   ]
  },
  {
   "cell_type": "code",
   "execution_count": 18,
   "id": "cd560d03",
   "metadata": {},
   "outputs": [
    {
     "data": {
      "text/plain": [
       "<tf.Tensor: shape=(10, 10), dtype=int32, numpy=\n",
       "array([[ 950,    0,    1,    2,    1,    7,   15,    2,    1,    1],\n",
       "       [   0, 1118,    3,    2,    0,    1,    4,    2,    5,    0],\n",
       "       [   4,    9,  923,   16,   15,    4,   14,   10,   32,    5],\n",
       "       [   1,    0,   17,  929,    1,   23,    4,    9,   17,    9],\n",
       "       [   1,    2,    2,    1,  921,    0,   12,    3,    5,   35],\n",
       "       [   7,    3,    2,   31,   12,  780,   19,    5,   25,    8],\n",
       "       [   6,    3,    4,    1,    8,    8,  925,    2,    1,    0],\n",
       "       [   1,    7,   22,    7,   10,    0,    0,  944,    1,   36],\n",
       "       [   5,   13,    5,   27,   10,   35,   12,   12,  841,   14],\n",
       "       [   9,    7,    2,   11,   29,    5,    0,   18,    7,  921]])>"
      ]
     },
     "execution_count": 18,
     "metadata": {},
     "output_type": "execute_result"
    }
   ],
   "source": [
    "#Here the y_predicted are array of whole numbers for every predicted image and y_test which is true value are integers\n",
    "#Hence to plot heat map, first we will take out the label which has max percentage of prediction and then use it to plot against Thruth value / Test set \n",
    "y_predicted_labels\n",
    "cm"
   ]
  },
  {
   "cell_type": "code",
   "execution_count": 19,
   "id": "4d8b2c1a",
   "metadata": {},
   "outputs": [
    {
     "data": {
      "text/plain": [
       "Text(95.72222222222221, 0.5, 'Truth')"
      ]
     },
     "execution_count": 19,
     "metadata": {},
     "output_type": "execute_result"
    },
    {
     "data": {
      "image/png": "[encoded data removed]",
      "text/plain": [
       "<Figure size 1000x700 with 2 Axes>"
      ]
     },
     "metadata": {},
     "output_type": "display_data"
    }
   ],
   "source": [
    "# above matrix doesnt give clear picture. Lets use some fancy way to explain this\n",
    "import seaborn as sn\n",
    "plt.figure(figsize=(10,7))\n",
    "sn.heatmap(cm,annot=True,fmt='d')\n",
    "plt.xlabel('Predicted')\n",
    "plt.ylabel('Truth')"
   ]
  },
  {
   "cell_type": "code",
   "execution_count": 115,
   "id": "30f0b8d3",
   "metadata": {},
   "outputs": [
    {
     "name": "stdout",
     "output_type": "stream",
     "text": [
      "Epoch 1/20\n",
      "1875/1875 [==============================] - 3s 1ms/step - loss: 0.2697 - accuracy: 0.9225\n",
      "Epoch 2/20\n",
      "1875/1875 [==============================] - 3s 2ms/step - loss: 0.1219 - accuracy: 0.9645\n",
      "Epoch 3/20\n",
      "1875/1875 [==============================] - 3s 2ms/step - loss: 0.0859 - accuracy: 0.9741\n",
      "Epoch 4/20\n",
      "1875/1875 [==============================] - 3s 2ms/step - loss: 0.0658 - accuracy: 0.9807\n",
      "Epoch 5/20\n",
      "1875/1875 [==============================] - 3s 1ms/step - loss: 0.0536 - accuracy: 0.9831\n",
      "Epoch 6/20\n",
      "1875/1875 [==============================] - 3s 1ms/step - loss: 0.0420 - accuracy: 0.9872\n",
      "Epoch 7/20\n",
      "1875/1875 [==============================] - 3s 1ms/step - loss: 0.0348 - accuracy: 0.9894\n",
      "Epoch 8/20\n",
      "1875/1875 [==============================] - 3s 1ms/step - loss: 0.0293 - accuracy: 0.9909\n",
      "Epoch 9/20\n",
      "1875/1875 [==============================] - 3s 1ms/step - loss: 0.0255 - accuracy: 0.9918\n",
      "Epoch 10/20\n",
      "1875/1875 [==============================] - 3s 1ms/step - loss: 0.0205 - accuracy: 0.9934\n",
      "Epoch 11/20\n",
      "1875/1875 [==============================] - 3s 1ms/step - loss: 0.0173 - accuracy: 0.9944\n",
      "Epoch 12/20\n",
      "1875/1875 [==============================] - 3s 1ms/step - loss: 0.0153 - accuracy: 0.9953\n",
      "Epoch 13/20\n",
      "1875/1875 [==============================] - 3s 1ms/step - loss: 0.0139 - accuracy: 0.9956\n",
      "Epoch 14/20\n",
      "1875/1875 [==============================] - 3s 1ms/step - loss: 0.0107 - accuracy: 0.9966\n",
      "Epoch 15/20\n",
      "1875/1875 [==============================] - 3s 1ms/step - loss: 0.0093 - accuracy: 0.9970\n",
      "Epoch 16/20\n",
      "1875/1875 [==============================] - 3s 2ms/step - loss: 0.0081 - accuracy: 0.9976\n",
      "Epoch 17/20\n",
      "1875/1875 [==============================] - 3s 2ms/step - loss: 0.0091 - accuracy: 0.9971\n",
      "Epoch 18/20\n",
      "1875/1875 [==============================] - 3s 1ms/step - loss: 0.0080 - accuracy: 0.9973\n",
      "Epoch 19/20\n",
      "1875/1875 [==============================] - 3s 1ms/step - loss: 0.0074 - accuracy: 0.9977\n",
      "Epoch 20/20\n",
      "1875/1875 [==============================] - 3s 1ms/step - loss: 0.0058 - accuracy: 0.9982\n"
     ]
    },
    {
     "data": {
      "text/plain": [
       "<keras.callbacks.History at 0x26133538a60>"
      ]
     },
     "execution_count": 115,
     "metadata": {},
     "output_type": "execute_result"
    }
   ],
   "source": [
    "model=keras.Sequential([\n",
    "    keras.layers.Dense(100,input_shape=(784,), activation='relu'),\n",
    "keras.layers.Dense(10,input_shape=(784,), activation='sigmoid')])\n",
    "\n",
    "model.compile(optimizer='adam',\n",
    "             loss='sparse_categorical_crossentropy',\n",
    "             metrics=['accuracy'])\n",
    "\n",
    "model.fit(X_train_flatten,y_train,epochs=20)"
   ]
  },
  {
   "cell_type": "code",
   "execution_count": 134,
   "id": "0ce239b2",
   "metadata": {},
   "outputs": [
    {
     "data": {
      "text/plain": [
       "<matplotlib.image.AxesImage at 0x26135824460>"
      ]
     },
     "execution_count": 134,
     "metadata": {},
     "output_type": "execute_result"
    },
    {
     "data": {
      "image/png": "[encoded data removed]",
      "text/plain": [
       "<Figure size 496.725x480 with 1 Axes>"
      ]
     },
     "metadata": {},
     "output_type": "display_data"
    }
   ],
   "source": [
    "import cv2\n",
    "img1 = cv2.imread(r'F:\\Kaggle\\1.jpg')\n",
    "gray = cv2.cvtColor(img1, cv2.COLOR_BGR2GRAY)\n",
    "\n",
    "(thresh, im_bw) = cv2.threshold(gray, 128, 255, cv2.THRESH_BINARY | cv2.THRESH_OTSU)\n",
    "for i in range(0,im_bw.shape[0]):\n",
    "    for j in range(0,im_bw.shape[1]):\n",
    "        if im_bw[i][j]==255:\n",
    "            im_bw[i][j]=0\n",
    "        else:\n",
    "            im_bw[i][j]=255\n",
    "            \n",
    "# Display the Binary Image\n",
    "cv2.imshow(\"Binary Image\",im_bw)\n",
    "cv2.waitKey(0)\n",
    "cv2.destroyAllWindows()\n",
    "plt.matshow(im_bw)"
   ]
  },
  {
   "cell_type": "code",
   "execution_count": 135,
   "id": "5bf71280",
   "metadata": {},
   "outputs": [],
   "source": [
    "def crop_square(img, size, interpolation=cv2.INTER_AREA):\n",
    "    h, w = img.shape[:2]\n",
    "    min_size = np.amin([h,w])\n",
    "\n",
    "    # Centralize and crop\n",
    "    crop_img = img[int(h/2-min_size/2):int(h/2+min_size/2), int(w/2-min_size/2):int(w/2+min_size/2)]\n",
    "    resized = cv2.resize(crop_img, (size, size), interpolation=interpolation)\n",
    "\n",
    "    return resized"
   ]
  },
  {
   "cell_type": "code",
   "execution_count": 136,
   "id": "7ada9249",
   "metadata": {},
   "outputs": [],
   "source": [
    "test_image=crop_square(im_bw,28)\n",
    "for i in range(test_image.shape[0]):\n",
    "    for j in range(test_image.shape[1]):\n",
    "        if test_image[i][j]>70:\n",
    "            test_image[i][j]=255\n",
    "                \n",
    "    "
   ]
  },
  {
   "cell_type": "code",
   "execution_count": 137,
   "id": "1858faa1",
   "metadata": {},
   "outputs": [
    {
     "data": {
      "text/plain": [
       "<matplotlib.image.AxesImage at 0x2613586a430>"
      ]
     },
     "execution_count": 137,
     "metadata": {},
     "output_type": "execute_result"
    },
    {
     "data": {
      "image/png": "[encoded data removed]",
      "text/plain": [
       "<Figure size 480x480 with 1 Axes>"
      ]
     },
     "metadata": {},
     "output_type": "display_data"
    }
   ],
   "source": [
    "plt.matshow(test_image)\n"
   ]
  },
  {
   "cell_type": "raw",
   "id": "9c67e9fd",
   "metadata": {},
   "source": [
    "test_image=cv2.resize(im_bw,(128,128))\n",
    "test_image=cv2.resize(test_image,(56,56))\n",
    "test_image=cv2.resize(test_image,(28,28))\n",
    "test_image=test_image/255\n",
    "plt.matshow(test_image)"
   ]
  },
  {
   "cell_type": "raw",
   "id": "45ac33c7",
   "metadata": {},
   "source": [
    "#z=np.zeros((28,28),dtype=float)\n",
    "#k=240\n",
    "\n",
    "#for i in range(4,24):\n",
    "   # for j in range(8,18):\n",
    "        \n",
    "     #   z[i][j]=k\n",
    "     #   k=k+1\n",
    "\n",
    "#plt.matshow(z)\n",
    "#z=z/255"
   ]
  },
  {
   "cell_type": "code",
   "execution_count": 138,
   "id": "7c5b218e",
   "metadata": {},
   "outputs": [],
   "source": [
    "#test_image=z.copy()\n",
    "test_image=test_image.reshape(1,28*28)"
   ]
  },
  {
   "cell_type": "code",
   "execution_count": 142,
   "id": "9c583dfd",
   "metadata": {},
   "outputs": [
    {
     "name": "stdout",
     "output_type": "stream",
     "text": [
      "1/1 [==============================] - 0s 33ms/step\n"
     ]
    },
    {
     "data": {
      "text/plain": [
       "array([[0., 1., 1., 0., 0., 0., 0., 0., 1., 0.]], dtype=float32)"
      ]
     },
     "execution_count": 142,
     "metadata": {},
     "output_type": "execute_result"
    }
   ],
   "source": [
    "y_test_pred=model.predict(test_image)\n",
    "y_test_pred"
   ]
  },
  {
   "cell_type": "code",
   "execution_count": 143,
   "id": "e77e7e44",
   "metadata": {},
   "outputs": [
    {
     "data": {
      "text/plain": [
       "1"
      ]
     },
     "execution_count": 143,
     "metadata": {},
     "output_type": "execute_result"
    }
   ],
   "source": [
    "np.argmax(y_test_pred)"
   ]
  },
  {
   "cell_type": "code",
   "execution_count": null,
   "id": "b408876b",
   "metadata": {},
   "outputs": [],
   "source": []
  },
  {
   "cell_type": "code",
   "execution_count": null,
   "id": "c4f576d8",
   "metadata": {},
   "outputs": [],
   "source": []
  }
 ],
 "metadata": {
  "kernelspec": {
   "display_name": "Python 3 (ipykernel)",
   "language": "python",
   "name": "python3"
  },
  "language_info": {
   "codemirror_mode": {
    "name": "ipython",
    "version": 3
   },
   "file_extension": ".py",
   "mimetype": "text/x-python",
   "name": "python",
   "nbconvert_exporter": "python",
   "pygments_lexer": "ipython3",
   "version": "3.9.13"
  }
 },
 "nbformat": 4,
 "nbformat_minor": 5
}
